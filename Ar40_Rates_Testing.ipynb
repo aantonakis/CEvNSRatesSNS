{
 "cells": [
  {
   "cell_type": "code",
   "execution_count": null,
   "id": "e8830674-294d-4c77-acef-b5c8d97e8630",
   "metadata": {},
   "outputs": [],
   "source": [
    "import numpy as np\n",
    "import sys\n",
    "import matplotlib.pyplot as plt\n",
    "from matplotlib.colors import LogNorm\n",
    "import math\n",
    "import ROOT\n",
    "from scipy.integrate import dblquad\n",
    "\n",
    "sys.path.append('/Users/alexanderantonakis/Desktop/Software/CEvNS_RATES/Classes')\n",
    "from snsgen import SNSGen\n",
    "\n",
    "print(\"Finished importing\")"
   ]
  },
  {
   "cell_type": "markdown",
   "id": "318df141-58c8-4e5d-a4d1-80008816d438",
   "metadata": {},
   "source": [
    "# Initialize the SNS Generator for Ar40: 1 Ton, 20 m Baseline"
   ]
  },
  {
   "cell_type": "code",
   "execution_count": null,
   "id": "069b1a49-a854-4fd4-ba11-286cb52d1ead",
   "metadata": {},
   "outputs": [],
   "source": [
    "# initialize the SNS generator with the material of choice\n",
    "\n",
    "mdet = 1000 #kg\n",
    "L = 20. # meters\n",
    "pot = 2.1*(10**23)\n",
    "\n",
    "material = \"Ar40\"\n",
    "#material = \"He\"\n",
    "\n",
    "gen = SNSGen(mdet, L, pot, material)\n",
    "\n",
    "print(\"Set up the SNS generator for our config\")"
   ]
  },
  {
   "cell_type": "markdown",
   "id": "c5674d6b-02d9-4167-92c0-aa6ef1bdfca0",
   "metadata": {},
   "source": [
    "# Spectral Functions for the Neutrino Flux"
   ]
  },
  {
   "cell_type": "code",
   "execution_count": null,
   "id": "73d07531-de7b-46aa-b876-eaf4cadcdb8e",
   "metadata": {},
   "outputs": [],
   "source": [
    "Es = np.arange(0, 53, 0.001)\n",
    "s_nue = gen.spectral_nue(Es)\n",
    "s_numubar = gen.spectral_numubar(Es)\n",
    "s_numu = gen.spectral_numu(Es)\n",
    "plt.plot(Es, s_nue, label=r\"$\\nu_{e}$\")\n",
    "plt.plot(Es, s_numubar, label=r\"$\\bar{\\nu}_{\\mu}$\")\n",
    "plt.plot(Es, s_numu, label=r\"$\\nu_{\\mu}$\")\n",
    "plt.legend(fontsize=14)\n",
    "plt.xlabel(\"Neutrino Energy [MeV]\", fontsize=14)\n",
    "plt.ylabel(\"Spectral Shape [Arb.]\", fontsize=14)\n",
    "plt.show()"
   ]
  },
  {
   "cell_type": "markdown",
   "id": "eeb7d9b1-7427-4555-bef7-0def416c1c41",
   "metadata": {},
   "source": [
    "# Calculate the normalized flux / POT"
   ]
  },
  {
   "cell_type": "code",
   "execution_count": null,
   "id": "d5b675ec-1b0f-4696-a097-83e2f964f09a",
   "metadata": {},
   "outputs": [],
   "source": [
    "f_nue = gen.flux_nue(Es)\n",
    "f_numubar = gen.flux_numubar(Es)\n",
    "f_numu = gen.flux_numu(Es)\n",
    "plt.scatter([], [], label=\"Detector Baseline: \" + str(gen.L)+\" m\")\n",
    "plt.plot(Es, f_nue, label=r\"$\\nu_{e}$\")\n",
    "plt.plot(Es, f_numubar, label=r\"$\\bar{\\nu}_{\\mu}$\")\n",
    "plt.plot(Es, f_numu, label=r\"$\\nu_{\\mu}$\")\n",
    "plt.legend(fontsize=14)\n",
    "plt.xlabel(\"Neutrino Energy [MeV]\", fontsize=14)\n",
    "plt.ylabel(\"Neutrino Flux [\" + r\"$\\nu$\"+\"/\"+\"$m^2$\"+\"/POT]\", fontsize=14)\n",
    "plt.yscale(\"log\")\n",
    "plt.show()"
   ]
  },
  {
   "cell_type": "markdown",
   "id": "ead13faa-bfdc-4ee6-ba11-c63e9464463c",
   "metadata": {},
   "source": [
    "# Plot the Helm Form Factor used in the Cross-section"
   ]
  },
  {
   "cell_type": "code",
   "execution_count": null,
   "id": "2a27b593-3f06-4365-9ab9-014a4cd7b0b5",
   "metadata": {},
   "outputs": [],
   "source": [
    "Es = np.arange(0.001, 0.14+0.001, 0.001)\n",
    "qs = np.sqrt(2*gen.M*Es)\n",
    "fs = gen.FH(Es)**2\n",
    "plt.plot(qs, fs)\n",
    "plt.xlabel(\"Momentum Transfer [MeV]\", fontsize=14)\n",
    "plt.ylabel(r\"Helm Form Factor Squared\", fontsize=14)\n",
    "plt.show()"
   ]
  },
  {
   "cell_type": "markdown",
   "id": "a1e1ec72-0313-4af1-a80b-903516d3c45f",
   "metadata": {},
   "source": [
    "# Calculate the Cross-section using the Differential Cross-section"
   ]
  },
  {
   "cell_type": "code",
   "execution_count": null,
   "id": "2c06e5c7-2226-450f-8968-1d47fedd5493",
   "metadata": {},
   "outputs": [],
   "source": [
    "Enus = np.linspace(0.00001, 53, 1000)\n",
    "sigmas = gen.Sigma(Enus)\n",
    "\n",
    "\n",
    "plt.plot(Enus, sigmas*(100**2)*(10**38))\n",
    "plt.xlim([5, 53])\n",
    "plt.ylim([10**(-5), 10**2])\n",
    "plt.yscale(\"log\")\n",
    "plt.ylabel(\"Cross-section (\"+r\"$10^{-38} cm^2$\"+\")\", fontsize=14)\n",
    "plt.xlabel(\"Neutrino Energy [MeV]\", fontsize=14)\n",
    "plt.show()"
   ]
  },
  {
   "cell_type": "markdown",
   "id": "9ef59e35-576f-4d67-bf48-9f8564326a32",
   "metadata": {},
   "source": [
    "# Event Rate as a function of Recoil Energy"
   ]
  },
  {
   "cell_type": "code",
   "execution_count": null,
   "id": "7d9143a1-1965-41c5-8d4d-7bbf666defd7",
   "metadata": {},
   "outputs": [],
   "source": [
    "Ers = np.arange(0.001, 0.14, 0.001)\n",
    "plt.plot(Ers*1000, gen.N_Er_numubar(Ers), label=r\"$\\bar{\\nu}_{\\mu}$\")\n",
    "plt.plot(Ers*1000, gen.N_Er_nue(Ers), label=r\"$\\nu_{e}$\")\n",
    "plt.plot(Ers*1000, gen.N_Er_numu(Ers), label=r\"$\\nu_{\\mu}$\")\n",
    "plt.ylabel(\"Events/POT/keV\", fontsize=14)\n",
    "plt.xlabel(\"Nuclear Recoil Energy [keV]\", fontsize=14)\n",
    "plt.legend(fontsize=14)\n",
    "plt.xlim([1, 140])\n",
    "#plt.ylim([0, 350])\n",
    "plt.show()"
   ]
  },
  {
   "cell_type": "code",
   "execution_count": null,
   "id": "b29a8789-e0a7-4e4f-91a0-d6163e943aa4",
   "metadata": {},
   "outputs": [],
   "source": [
    "Ers = np.arange(0.001, 0.14, 0.001)\n",
    "plt.plot(Ers*1000, gen.pot*gen.N_Er_numubar(Ers), c=\"r\", label=r\"$\\bar{\\nu}_{\\mu}$\")\n",
    "plt.plot(Ers*1000, gen.pot*gen.N_Er_nue(Ers), c=\"g\", label=r\"$\\nu_{e}$\")\n",
    "plt.plot(Ers*1000, gen.pot*gen.N_Er_numu(Ers), c=\"b\", label=r\"$\\nu_{\\mu}$\")\n",
    "plt.ylabel(\"Events/year/keV\", fontsize=14)\n",
    "plt.xlabel(\"Nuclear Recoil Energy [keV]\", fontsize=14)\n",
    "plt.legend(fontsize=14)\n",
    "plt.xlim([1, 150])\n",
    "plt.ylim([0, 315])\n",
    "plt.show()"
   ]
  },
  {
   "cell_type": "markdown",
   "id": "cf8350bc-4f2d-44df-9b67-ee309e077618",
   "metadata": {},
   "source": [
    "# Plot the Differential Recoil Spectrum / POT"
   ]
  },
  {
   "cell_type": "code",
   "execution_count": null,
   "id": "f47c3002-8295-48e3-bd71-be1d4a6c1a33",
   "metadata": {},
   "outputs": [],
   "source": [
    "Ers = np.linspace(0.001, 0.16, 1000)\n",
    "costhetas = np.linspace(0.01, 1, 1000)\n",
    "\n",
    "\n",
    "X, Y = np.meshgrid(Ers, costhetas)  \n",
    "Z = gen.dN_dEr_dcos_muon(X, Y)\n",
    "\n",
    "# Create a contour plot\n",
    "plt.figure(figsize=(8, 6))\n",
    "\n",
    "# Contour lines\n",
    "#contour = plt.contour(X*1000, Y, Z, levels=100, cmap=\"viridis\", norm=LogNorm())  # 20 levels\n",
    "#plt.clabel(contour, inline=True, fontsize=8)               # Label the contours\n",
    "\n",
    "# Filled contour\n",
    "contour = plt.contourf(X*1000, Y, Z, levels=100, \n",
    "                       cmap=\"viridis\", alpha=0.7, norm=LogNorm())  # Filled contours\n",
    "\n",
    "colorbar = plt.colorbar(contour)\n",
    "colorbar.set_label(r\"$\\frac{d^{2}N}{dE_{r}d\\Omega_{r}}$\" + \"/POT\", fontsize=14)\n",
    "\n",
    "plt.scatter([], [], c=\"black\", label=\"Detector Mass: \"+str(gen.mdet)+ \" kg\")\n",
    "plt.scatter([], [], c=\"black\", label=\"Baseline: \"+str(gen.L)+ \" m\")\n",
    "\n",
    "#plt.xlim([0, 150])\n",
    "plt.ylim([0, 1.1])\n",
    "# Add labels\n",
    "#plt.title(\"Contour Plot Example\")\n",
    "plt.xlabel(\"Nuclear Recoil Energy [keV]\", fontsize=14)\n",
    "plt.ylabel(\"cos\"+r\"$\\theta_{r}$\", fontsize=14)\n",
    "plt.xscale(\"log\")\n",
    "# Show the plot\n",
    "plt.xlim([0, 200])\n",
    "plt.legend(loc=\"lower right\")\n",
    "plt.title(r\"$\\nu_{e} + \\bar{\\nu}_{\\mu}$\"+\" Flux Contribution\", fontsize=20)\n",
    "plt.show()"
   ]
  },
  {
   "cell_type": "code",
   "execution_count": null,
   "id": "4db566af-4ced-4501-a6a1-5e024d5b12ab",
   "metadata": {},
   "outputs": [],
   "source": [
    "Ers = np.linspace(0.001, 0.16, 1000)\n",
    "costhetas = np.linspace(0.01, 1, 1000)\n",
    "\n",
    "\n",
    "X, Y = np.meshgrid(Ers, costhetas)  \n",
    "Z = gen.dN_dEr_dcos_muon(X, Y)\n",
    "\n",
    "# Create a contour plot\n",
    "plt.figure(figsize=(8, 6))\n",
    "\n",
    "\n",
    "\n",
    "# Filled contour\n",
    "contour = plt.contourf(X*1000, Y, Z*gen.pot, levels=100, \n",
    "                       cmap=\"viridis\", alpha=0.7, norm=LogNorm())  # Filled contours\n",
    "\n",
    "colorbar = plt.colorbar(contour)\n",
    "colorbar.set_label(r\"$\\frac{d^{2}N}{dE_{r}d\\Omega_{r}}$\", fontsize=14)\n",
    "\n",
    "plt.scatter([], [], c=\"black\", label=\"Detector Mass: \"+str(gen.mdet)+ \" kg\")\n",
    "plt.scatter([], [], c=\"black\", label=\"Baseline: \"+str(gen.L)+ \" m\")\n",
    "\n",
    "#plt.xlim([0, 150])\n",
    "plt.ylim([0, 1.1])\n",
    "# Add labels\n",
    "#plt.title(\"Contour Plot Example\")\n",
    "plt.xlabel(\"Nuclear Recoil Energy [keV]\", fontsize=14)\n",
    "plt.ylabel(\"cos\"+r\"$\\theta_{r}$\", fontsize=14)\n",
    "plt.xscale(\"log\")\n",
    "# Show the plot\n",
    "\n",
    "min_costheta = gen.get_min_cos(Ers)\n",
    "\n",
    "plt.plot(Ers*1000, min_costheta, c=\"r\")\n",
    "\n",
    "plt.xlim([1, 200])\n",
    "plt.legend(loc=\"lower right\")\n",
    "plt.title(r\"$\\nu_{e} + \\bar{\\nu}_{\\mu}$\"+\" Flux Contribution\", fontsize=20)\n",
    "plt.show()"
   ]
  },
  {
   "cell_type": "code",
   "execution_count": null,
   "id": "561568eb-1fb2-453c-9d9b-5145a88bed44",
   "metadata": {},
   "outputs": [],
   "source": [
    "Ers = np.linspace(0.001, 1.5, 1000)\n",
    "costhetas = np.linspace(0.01, 1, 1000)\n",
    "\n",
    "\n",
    "X, Y = np.meshgrid(Ers, costhetas)  \n",
    "Z = gen.dN_dEr_dcos_muon(X, Y)\n",
    "\n",
    "# Create a contour plot\n",
    "plt.figure(figsize=(8, 6))\n",
    "\n",
    "\n",
    "\n",
    "# Filled contour\n",
    "contour = plt.contourf(X*1000, Y, Z*gen.pot, levels=100, \n",
    "                       cmap=\"viridis\", alpha=0.7, norm=LogNorm())  # Filled contours\n",
    "\n",
    "colorbar = plt.colorbar(contour)\n",
    "colorbar.set_label(r\"$\\frac{d^{2}N}{dE_{r}d\\Omega_{r}}$\", fontsize=14)\n",
    "\n",
    "plt.scatter([], [], c=\"black\", label=\"Detector Mass: \"+str(gen.mdet)+ \" kg\")\n",
    "plt.scatter([], [], c=\"black\", label=\"Baseline: \"+str(gen.L)+ \" m\")\n",
    "\n",
    "#plt.xlim([0, 150])\n",
    "plt.ylim([0, 1.1])\n",
    "# Add labels\n",
    "#plt.title(\"Contour Plot Example\")\n",
    "plt.xlabel(\"Nuclear Recoil Energy [keV]\", fontsize=14)\n",
    "plt.ylabel(\"cos\"+r\"$\\theta_{r}$\", fontsize=14)\n",
    "plt.xscale(\"log\")\n",
    "# Show the plot\n",
    "\n",
    "min_costheta = gen.get_min_cos(Ers)\n",
    "\n",
    "plt.plot(Ers*1000, min_costheta, c=\"r\")\n",
    "\n",
    "plt.xlim([1, 1500])\n",
    "plt.legend(loc=\"lower right\")\n",
    "plt.title(r\"$\\nu_{e} + \\bar{\\nu}_{\\mu}$\"+\" Flux Contribution\", fontsize=20)\n",
    "plt.show()"
   ]
  },
  {
   "cell_type": "code",
   "execution_count": null,
   "id": "a9008ee2-f46b-4e34-936d-be9d90ab968c",
   "metadata": {},
   "outputs": [],
   "source": [
    "# Crude Approximation\n",
    "\n",
    "Ers = np.arange(0.001, 1.5, 1./1000)\n",
    "costhetas = np.arange(0.01, 1.01, 0.01)\n",
    "\n",
    "\n",
    "X, Y = np.meshgrid(Ers, costhetas)  \n",
    "Z = gen.dN_dEr_dcos_muon(X, Y)\n",
    "\n",
    "\n",
    "Scale = 2*math.pi*(Ers[1] - Ers[0])*(costhetas[1] - costhetas[0])\n",
    "#Scale = (Ers[1] - Ers[0])*(costhetas[1] - costhetas[0])\n",
    "N = Z*gen.pot*Scale\n",
    "\n",
    "mask = (N < 10**-2)\n",
    "\n",
    "N[mask] = 0\n",
    "\n",
    "print(np.max(N))\n",
    "\n",
    "plt.figure(figsize=(8, 6))\n",
    "\n",
    "# Filled contour\n",
    "#contour = plt.contourf(X*1000, Y, N, levels=[10**-2, 10**-1, 1], \n",
    "#                       cmap=\"viridis\", alpha=0.7, norm=LogNorm())  # Filled contours\n",
    "\n",
    "contour = plt.contour(X*1000, Y, N, levels=[10**-2, 10**-1, 1, 2], cmap=\"viridis\")  # contours\n",
    "\n",
    "colorbar = plt.colorbar(contour)\n",
    "colorbar.set_label(r\"Events/year\", fontsize=14)\n",
    "\n",
    "plt.scatter([], [], c=\"black\", label=\"Detector Mass: \"+str(gen.mdet)+ \" kg\")\n",
    "plt.scatter([], [], c=\"black\", label=\"Baseline: \"+str(gen.L)+ \" m\")\n",
    "\n",
    "#plt.xlim([0, 150])\n",
    "plt.ylim([0, 1])\n",
    "# Add labels\n",
    "#plt.title(\"Contour Plot Example\")\n",
    "plt.xlabel(\"Nuclear Recoil Energy [keV]\", fontsize=14)\n",
    "plt.ylabel(\"cos\"+r\"$\\theta_{r}$\", fontsize=14)\n",
    "plt.xscale(\"log\")\n",
    "# Show the plot\n",
    "\n",
    "min_costheta = gen.get_min_cos(Ers)\n",
    "\n",
    "#plt.plot(Ers*1000, min_costheta, c=\"r\")\n",
    "\n",
    "plt.xlim([1, 1500])\n",
    "plt.legend(loc=\"lower right\")\n",
    "plt.title(r\"$\\nu_{e} + \\bar{\\nu}_{\\mu}$\"+\" Flux Contribution\", fontsize=20)\n",
    "plt.show()"
   ]
  },
  {
   "cell_type": "markdown",
   "id": "85dfa2c3",
   "metadata": {},
   "source": [
    "# Crude Approximation"
   ]
  },
  {
   "cell_type": "code",
   "execution_count": null,
   "id": "18e9c2d3-622c-4a6f-aede-50b1bede8add",
   "metadata": {},
   "outputs": [],
   "source": [
    "# Crude Approximation\n",
    "\n",
    "Ers = np.arange(0.0001, 1.5, 1./10000)\n",
    "costhetas = np.arange(0.001, 1.001, 0.001)\n",
    "\n",
    "\n",
    "X, Y = np.meshgrid(Ers, costhetas)  \n",
    "Z = gen.dN_dEr_dcos_muon(X, Y)\n",
    "\n",
    "\n",
    "Scale = 2*math.pi*(Ers[1] - Ers[0])*(costhetas[1] - costhetas[0])\n",
    "Scale = (Ers[1] - Ers[0])*(costhetas[1] - costhetas[0])\n",
    "N = Z*gen.pot*Scale\n",
    "\n",
    "mask = (N < 10**-3)\n",
    "\n",
    "#N[mask] = 0\n",
    "\n",
    "print(np.max(N))\n",
    "\n",
    "plt.figure(figsize=(8, 6))\n",
    "\n",
    "# Filled contour\n",
    "contour = plt.contourf(X*1000, Y, N, levels=1000, \n",
    "                      cmap=\"viridis\", alpha=0.7, norm=LogNorm())  # Filled contours\n",
    "\n",
    "#contour = plt.contour(X*1000, Y, N, levels=[10**-4, 10**-3, 10**-2], cmap=\"viridis\")  # contours\n",
    "\n",
    "colorbar = plt.colorbar(contour)\n",
    "colorbar.set_label(r\"Events/year\", fontsize=14)\n",
    "\n",
    "plt.scatter([], [], c=\"black\", label=\"Detector Mass: \"+str(gen.mdet)+ \" kg\")\n",
    "plt.scatter([], [], c=\"black\", label=\"Baseline: \"+str(gen.L)+ \" m\")\n",
    "\n",
    "#plt.xlim([0, 150])\n",
    "plt.ylim([0, 1])\n",
    "# Add labels\n",
    "#plt.title(\"Contour Plot Example\")\n",
    "plt.xlabel(\"Nuclear Recoil Energy [keV]\", fontsize=14)\n",
    "plt.ylabel(\"cos\"+r\"$\\theta_{r}$\", fontsize=14)\n",
    "plt.xscale(\"log\")\n",
    "# Show the plot\n",
    "\n",
    "min_costheta = gen.get_min_cos(Ers)\n",
    "print(min_costheta)\n",
    "\n",
    "#plt.plot(Ers*1000, min_costheta, c=\"r\")\n",
    "\n",
    "plt.xlim([1, 1500])\n",
    "plt.legend(loc=\"lower right\")\n",
    "plt.title(r\"$\\nu_{e} + \\bar{\\nu}_{\\mu}$\"+\" Flux Contribution\", fontsize=20)\n",
    "plt.show()"
   ]
  },
  {
   "cell_type": "markdown",
   "id": "96f2636f",
   "metadata": {},
   "source": [
    "# PLot Recoil Spectrum from GenerateRecoilSpectrum.py in Main"
   ]
  },
  {
   "cell_type": "markdown",
   "id": "060ea795",
   "metadata": {},
   "source": [
    "## Need to Check if off by a factor of 2pi or 4pi from the integration measure"
   ]
  },
  {
   "cell_type": "code",
   "execution_count": null,
   "id": "8eb26315",
   "metadata": {},
   "outputs": [],
   "source": [
    "rfile = ROOT.TFile.Open(\"Main/Ar_spectrum.root\", \"READ\")\n",
    "h_multi_Ar = rfile.Get(\"N_2D\")\n",
    "h_multi_Ar.SetDirectory(0)\n",
    "rfile.Close()"
   ]
  },
  {
   "cell_type": "code",
   "execution_count": null,
   "id": "452d424d",
   "metadata": {},
   "outputs": [],
   "source": [
    "c = ROOT.TCanvas(\"c\", \"c\", 700, 500)\n",
    "c.SetLogz()\n",
    "c.SetLogx()\n",
    "h_multi_Ar.SetStats(0)\n",
    "h_multi_Ar.SetTitle(\"Argon Recoil Spectrum\")\n",
    "h_multi_Ar.GetXaxis().SetTitle(\"Nuclear Recoil Energy [keV]\")\n",
    "h_multi_Ar.GetXaxis().SetRangeUser(1, 150)\n",
    "h_multi_Ar.GetYaxis().SetTitle(\"cos#theta_{r}\")\n",
    "h_multi_Ar.GetZaxis().SetTitle(\"Interactions/Year\")\n",
    "h_multi_Ar.GetXaxis().SetTitleOffset(1.5)\n",
    "h_multi_Ar.GetZaxis().SetTitleOffset(0.7)\n",
    "h_multi_Ar.Draw(\"Colz\")\n",
    "c.Draw()"
   ]
  },
  {
   "cell_type": "markdown",
   "id": "c130cf1b",
   "metadata": {},
   "source": [
    "# Slow Implementation of the Integration Beyond this Point"
   ]
  },
  {
   "cell_type": "code",
   "execution_count": null,
   "id": "3da78e7a",
   "metadata": {},
   "outputs": [],
   "source": [
    "Stop"
   ]
  },
  {
   "cell_type": "code",
   "execution_count": null,
   "id": "c5a60b6d-a437-4221-a2bc-7d0f292ef181",
   "metadata": {},
   "outputs": [],
   "source": [
    "\n",
    "def N(Er1, Er2, cos1, cos2):\n",
    "    def f(y, x):\n",
    "        return 4*math.pi*gen.dN_dEr_dcos_muon(y, x)\n",
    "        \n",
    "    v = dblquad(f, cos1, cos2, Er1, Er2)\n",
    "    #print(v)\n",
    "    return v[0]\n",
    "\n",
    "print(N(1/1000, 10/1000, 0.2, 0.6)*gen.pot)\n"
   ]
  },
  {
   "cell_type": "markdown",
   "id": "60179de5-da88-4a7c-a10d-aab000ddadd2",
   "metadata": {},
   "source": [
    "# Method with Double Integration --> Slow"
   ]
  },
  {
   "cell_type": "code",
   "execution_count": null,
   "id": "460fdd54-8dfd-4b98-9637-34e6be7ccd9a",
   "metadata": {},
   "outputs": [],
   "source": [
    "# Crude Approximation\n",
    "\n",
    "Ers = np.arange(0.001, 1.5, 1./1000)\n",
    "costhetas = np.arange(0.01, 1.01, 0.01)\n",
    "\n",
    "Ermin = 1\n",
    "Ermax = 1500\n",
    "\n",
    "nbinsx = Ermax-Ermin\n",
    "\n",
    "cosmin = 0.01\n",
    "cosmax = 1\n",
    "\n",
    "coswidth = 0.01\n",
    "nbinsy = int((cosmax - cosmin)/coswidth)\n",
    "\n",
    "\n",
    "h = ROOT.TH2D(\"N_2D\", \"\", nbinsx, Ermin, Ermax, nbinsy, cosmin, cosmax)\n",
    "\n",
    "print(\"Start Loop Over\", nbinsx*nbinsy, \" Cells\")\n",
    "count = 0\n",
    "for i in range(1, h.GetNbinsX()+1):\n",
    "    for j in range(h.GetNbinsY()+1):\n",
    "        Er1 = h.GetXaxis().GetBinLowEdge(i)\n",
    "        Er2 = Er1 + h.GetXaxis().GetBinWidth(i)\n",
    "        cos1 = h.GetYaxis().GetBinLowEdge(j)\n",
    "        cos2 = cos1 + h.GetYaxis().GetBinWidth(j)\n",
    "        v = N(Er1/1000, Er2/1000, cos1, cos2)*gen.pot\n",
    "        h.SetBinContent(i, j, v)\n",
    "        count += 1\n",
    "        if count % 10000 == 0:\n",
    "            print(\"Cell\", count)\n",
    "\n",
    "c = ROOT.TCanvas(\"c\", \"c\", 700, 500)\n",
    "c.SetLogz()\n",
    "h.Draw(\"Colz\")\n",
    "c.Draw()"
   ]
  },
  {
   "cell_type": "code",
   "execution_count": null,
   "id": "8daf1877-7053-4a8a-a017-ce7f564a9d2f",
   "metadata": {},
   "outputs": [],
   "source": [
    "c = ROOT.TCanvas(\"c\", \"c\", 700, 500)\n",
    "c.SetLogz()\n",
    "c.SetLogx()\n",
    "h.SetStats(0)\n",
    "h.GetXaxis().SetTitle(\"Nuclear Recoil Energy [keV]\")\n",
    "h.GetYaxis().SetTitle(\"cos#theta_{r}\")\n",
    "h.GetZaxis().SetTitle(\"Interactions/Year\")\n",
    "h.GetXaxis().SetTitleOffset(1.5)\n",
    "h.GetZaxis().SetTitleOffset(0.7)\n",
    "h.Draw(\"Colz\")\n",
    "c.Draw()"
   ]
  },
  {
   "cell_type": "code",
   "execution_count": null,
   "id": "95d71d99-1360-4956-b926-dc3067e289dc",
   "metadata": {},
   "outputs": [],
   "source": [
    "contours = [0.01, 0.1, 1]  # set your desired contour levels\n",
    "h.SetContour(len(contours))\n",
    "for i, level in enumerate(contours):\n",
    "    h.SetContourLevel(i, level)\n",
    "\n",
    "# Draw the histogram as a contour plot\n",
    "c = ROOT.TCanvas(\"c\", \"Contour Plot\", 700, 500)\n",
    "c.SetLogz()\n",
    "c.SetLogx()\n",
    "h.Draw(\"CONT1Z\")  # \"CONT1Z\" adds colored contours + axis\n",
    "\n",
    "c.Update()\n",
    "c.Draw()"
   ]
  },
  {
   "cell_type": "code",
   "execution_count": null,
   "id": "7bfeee14-4abf-4799-a9cf-e6057f4557b7",
   "metadata": {},
   "outputs": [],
   "source": [
    "contours = [0.01, 0.1, 1]  # set your desired contour levels\n",
    "h.Scale(1/(2*math.pi))\n",
    "h.SetContour(len(contours))\n",
    "for i, level in enumerate(contours):\n",
    "    h.SetContourLevel(i, level)\n",
    "\n",
    "# Draw the histogram as a contour plot\n",
    "c = ROOT.TCanvas(\"c\", \"Contour Plot\", 700, 500)\n",
    "c.SetLogz()\n",
    "c.SetLogx()\n",
    "h.Draw(\"CONT1Z\")  # \"CONT1Z\" adds colored contours + axis\n",
    "\n",
    "c.Update()\n",
    "c.Draw()"
   ]
  },
  {
   "cell_type": "code",
   "execution_count": null,
   "id": "e65d6298-a6b0-4edb-8eac-bdc666606e97",
   "metadata": {},
   "outputs": [],
   "source": [
    "print(h.GetMaximum())"
   ]
  },
  {
   "cell_type": "code",
   "execution_count": null,
   "id": "a91f1b93-075a-4f82-8398-7bd6189e2bdc",
   "metadata": {},
   "outputs": [],
   "source": [
    "contours = [0.01, 0.1, 1]  # set your desired contour levels\n",
    "h.SetContour(len(contours))\n",
    "for i, level in enumerate(contours):\n",
    "    h.SetContourLevel(i, level)\n",
    "\n",
    "# Draw the histogram as a contour plot\n",
    "c = ROOT.TCanvas(\"c\", \"Contour Plot\", 700, 500)\n",
    "c.SetLogz()\n",
    "c.SetLogx()\n",
    "h.Draw(\"CONT1Z\")  # \"CONT1Z\" adds colored contours + axis\n",
    "\n",
    "c.Update()\n",
    "c.Draw()"
   ]
  },
  {
   "cell_type": "code",
   "execution_count": null,
   "id": "8457a702-6284-4246-b76c-8bebfbb63b93",
   "metadata": {},
   "outputs": [],
   "source": []
  }
 ],
 "metadata": {
  "kernelspec": {
   "display_name": "pyROOT_3.9_env",
   "language": "python",
   "name": "pyroot_3.9_env"
  },
  "language_info": {
   "codemirror_mode": {
    "name": "ipython",
    "version": 3
   },
   "file_extension": ".py",
   "mimetype": "text/x-python",
   "name": "python",
   "nbconvert_exporter": "python",
   "pygments_lexer": "ipython3",
   "version": "3.9.17"
  }
 },
 "nbformat": 4,
 "nbformat_minor": 5
}
