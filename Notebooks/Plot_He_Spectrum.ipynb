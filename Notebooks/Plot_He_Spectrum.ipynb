{
 "cells": [
  {
   "cell_type": "code",
   "execution_count": null,
   "metadata": {},
   "outputs": [],
   "source": [
    "import numpy as np\n",
    "import sys\n",
    "import matplotlib.pyplot as plt\n",
    "from matplotlib.colors import LogNorm\n",
    "import math\n",
    "import ROOT\n",
    "from scipy.integrate import dblquad\n",
    "\n",
    "sys.path.append('/Users/alexanderantonakis/Desktop/Software/CEvNS_RATES/Classes')\n",
    "from snsgen import SNSGen\n",
    "\n",
    "print(\"Finished importing\")"
   ]
  },
  {
   "cell_type": "markdown",
   "metadata": {},
   "source": [
    "# Initialize the SNS Generator for He: 1 Ton, 20 m Baseline"
   ]
  },
  {
   "cell_type": "code",
   "execution_count": null,
   "metadata": {},
   "outputs": [],
   "source": [
    "# initialize the SNS generator with the material of choice\n",
    "\n",
    "mdet = 1000 #kg\n",
    "L = 20. # meters\n",
    "# Expected POT/year\n",
    "pot = 2.1*(10**23)\n",
    "#material = \"Ar40\"\n",
    "material = \"He\"\n",
    "\n",
    "gen = SNSGen(mdet, L, pot, material)\n",
    "\n",
    "print(\"Set up the SNS generator for our config\")"
   ]
  },
  {
   "cell_type": "markdown",
   "metadata": {},
   "source": [
    "# Neutrino Flux Spectral Functions"
   ]
  },
  {
   "cell_type": "code",
   "execution_count": null,
   "metadata": {},
   "outputs": [],
   "source": [
    "Es = np.arange(0, 53, 0.001)\n",
    "s_nue = gen.spectral_nue(Es)\n",
    "s_numubar = gen.spectral_numubar(Es)\n",
    "s_numu = gen.spectral_numu(Es)\n",
    "plt.plot(Es, s_nue, label=r\"$\\nu_{e}$\")\n",
    "plt.plot(Es, s_numubar, label=r\"$\\bar{\\nu}_{\\mu}$\")\n",
    "plt.plot(Es, s_numu, label=r\"$\\nu_{\\mu}$\")\n",
    "plt.legend(fontsize=14)\n",
    "plt.xlabel(\"Neutrino Energy [MeV]\", fontsize=14)\n",
    "plt.ylabel(\"Spectral Shape [Arb.]\", fontsize=14)\n",
    "plt.show()"
   ]
  },
  {
   "cell_type": "markdown",
   "metadata": {},
   "source": [
    "# POT Normalized Flux"
   ]
  },
  {
   "cell_type": "code",
   "execution_count": null,
   "metadata": {},
   "outputs": [],
   "source": [
    "f_nue = gen.flux_nue(Es)\n",
    "f_numubar = gen.flux_numubar(Es)\n",
    "f_numu = gen.flux_numu(Es)\n",
    "plt.scatter([], [], label=\"Detector Baseline: \" + str(gen.L)+\" m\")\n",
    "plt.plot(Es, f_nue, label=r\"$\\nu_{e}$\")\n",
    "plt.plot(Es, f_numubar, label=r\"$\\bar{\\nu}_{\\mu}$\")\n",
    "plt.plot(Es, f_numu, label=r\"$\\nu_{\\mu}$\")\n",
    "plt.legend(fontsize=14)\n",
    "plt.xlabel(\"Neutrino Energy [MeV]\", fontsize=14)\n",
    "plt.ylabel(\"Neutrino Flux [\" + r\"$\\nu$\"+\"/\"+\"$m^2$\"+\"/POT]\", fontsize=14)\n",
    "plt.yscale(\"log\")\n",
    "plt.show()"
   ]
  },
  {
   "cell_type": "markdown",
   "metadata": {},
   "source": [
    "# Helm Form Factor"
   ]
  },
  {
   "cell_type": "code",
   "execution_count": null,
   "metadata": {},
   "outputs": [],
   "source": [
    "Es = np.arange(0.001, 0.14+0.001, 0.001)\n",
    "qs = np.sqrt(2*gen.M*Es)\n",
    "fs = gen.FH(Es)**2\n",
    "plt.plot(qs, fs)\n",
    "plt.xlabel(\"Momentum Transfer [MeV]\", fontsize=14)\n",
    "plt.ylabel(r\"Helm Form Factor Squared\", fontsize=14)\n",
    "plt.title(\"Material: Helium\")\n",
    "plt.show()"
   ]
  },
  {
   "cell_type": "markdown",
   "metadata": {},
   "source": [
    "# Cross Section"
   ]
  },
  {
   "cell_type": "code",
   "execution_count": null,
   "metadata": {},
   "outputs": [],
   "source": [
    "Enus = np.linspace(0.00001, 53, 1000)\n",
    "sigmas = gen.Sigma(Enus)\n",
    "\n",
    "\n",
    "plt.plot(Enus, sigmas*(100**2)*(10**38))\n",
    "plt.xlim([5, 53])\n",
    "plt.ylim([10**(-5), 10**2])\n",
    "plt.yscale(\"log\")\n",
    "plt.ylabel(\"Cross-section (\"+r\"$10^{-38} cm^2$\"+\")\", fontsize=14)\n",
    "plt.xlabel(\"Neutrino Energy [MeV]\", fontsize=14)\n",
    "plt.show()"
   ]
  },
  {
   "cell_type": "markdown",
   "metadata": {},
   "source": [
    "# Event Rate as a function of the Recoil Energy"
   ]
  },
  {
   "cell_type": "code",
   "execution_count": null,
   "metadata": {},
   "outputs": [],
   "source": [
    "Ers = np.arange(0.001, 0.15, 0.001)\n",
    "plt.plot(Ers*1000, gen.N_Er_numubar(Ers), label=r\"$\\bar{\\nu}_{\\mu}$\")\n",
    "plt.plot(Ers*1000, gen.N_Er_nue(Ers), label=r\"$\\nu_{e}$\")\n",
    "plt.plot(Ers*1000, gen.N_Er_numu(Ers), label=r\"$\\nu_{\\mu}$\")\n",
    "plt.ylabel(\"Events/POT/keV\", fontsize=14)\n",
    "plt.xlabel(\"Nuclear Recoil Energy [keV]\", fontsize=14)\n",
    "plt.legend(fontsize=14)\n",
    "plt.xlim([1, 140])\n",
    "#plt.ylim([0, 350])\n",
    "plt.show()"
   ]
  },
  {
   "cell_type": "code",
   "execution_count": null,
   "metadata": {},
   "outputs": [],
   "source": [
    "Ers = np.arange(0.001, 0.15, 0.001)\n",
    "plt.plot(Ers*1000, gen.pot*gen.N_Er_numubar(Ers), c=\"r\", label=r\"$\\bar{\\nu}_{\\mu}$\")\n",
    "plt.plot(Ers*1000, gen.pot*gen.N_Er_nue(Ers), c=\"g\", label=r\"$\\nu_{e}$\")\n",
    "plt.plot(Ers*1000, gen.pot*gen.N_Er_numu(Ers), c=\"b\", label=r\"$\\nu_{\\mu}$\")\n",
    "plt.ylabel(\"Events/year/keV\", fontsize=14)\n",
    "plt.xlabel(\"Nuclear Recoil Energy [keV]\", fontsize=14)\n",
    "plt.legend(fontsize=14)\n",
    "plt.xlim([1, 160])\n",
    "#plt.ylim([0, 315])\n",
    "plt.show()"
   ]
  },
  {
   "cell_type": "markdown",
   "metadata": {},
   "source": [
    "# Recoil Spectrum"
   ]
  },
  {
   "cell_type": "code",
   "execution_count": null,
   "metadata": {},
   "outputs": [],
   "source": [
    "def N(Er1, Er2, cos1, cos2):\n",
    "    def f(y, x):\n",
    "        return 4*math.pi*gen.dN_dEr_dcos_muon(y, x)\n",
    "        \n",
    "    v = dblquad(f, cos1, cos2, Er1, Er2)\n",
    "    #print(v)\n",
    "    return v[0]\n",
    "\n",
    "print(N(1/1000, 10/1000, 0.2, 0.6)*gen.pot)"
   ]
  },
  {
   "cell_type": "code",
   "execution_count": null,
   "metadata": {},
   "outputs": [],
   "source": [
    "Ermin = 1\n",
    "Ermax = 1500\n",
    "\n",
    "nbinsx = Ermax-Ermin\n",
    "\n",
    "cosmin = 0.01\n",
    "cosmax = 1\n",
    "\n",
    "coswidth = 0.01\n",
    "nbinsy = int((cosmax - cosmin)/coswidth)\n",
    "\n",
    "\n",
    "h = ROOT.TH2D(\"N_2D\", \"\", nbinsx, Ermin, Ermax, nbinsy, cosmin, cosmax)\n",
    "\n",
    "print(\"Start Loop Over\", nbinsx*nbinsy, \" Cells\")\n",
    "count = 0\n",
    "for i in range(1, h.GetNbinsX()+1):\n",
    "    for j in range(h.GetNbinsY()+1):\n",
    "        Er1 = h.GetXaxis().GetBinLowEdge(i)\n",
    "        Er2 = Er1 + h.GetXaxis().GetBinWidth(i)\n",
    "        cos1 = h.GetYaxis().GetBinLowEdge(j)\n",
    "        cos2 = cos1 + h.GetYaxis().GetBinWidth(j)\n",
    "        v = N(Er1/1000, Er2/1000, cos1, cos2)*gen.pot\n",
    "        h.SetBinContent(i, j, v)\n",
    "        count += 1\n",
    "        if count % 10000 == 0:\n",
    "            print(\"Cell\", count)\n",
    "\n",
    "c = ROOT.TCanvas(\"c\", \"c\", 700, 500)\n",
    "c.SetLogz()\n",
    "h.Draw(\"Colz\")\n",
    "c.Draw()"
   ]
  },
  {
   "cell_type": "code",
   "execution_count": null,
   "metadata": {},
   "outputs": [],
   "source": [
    "c = ROOT.TCanvas(\"c\", \"c\", 700, 500)\n",
    "c.SetLogz()\n",
    "c.SetLogx()\n",
    "h.SetStats(0)\n",
    "h.GetXaxis().SetTitle(\"Nuclear Recoil Energy [keV]\")\n",
    "h.GetYaxis().SetTitle(\"cos#theta_{r}\")\n",
    "h.GetZaxis().SetTitle(\"Interactions/Year\")\n",
    "h.GetXaxis().SetTitleOffset(1.5)\n",
    "h.GetZaxis().SetTitleOffset(0.7)\n",
    "h.Draw(\"Colz\")\n",
    "c.Draw()"
   ]
  },
  {
   "cell_type": "code",
   "execution_count": null,
   "metadata": {},
   "outputs": [],
   "source": [
    "rfile = ROOT.TFile.Open(\"../Main/he_spectrum.root\", \"READ\")\n",
    "h_multi = rfile.Get(\"N_2D\")\n",
    "h_multi.SetDirectory(0)\n",
    "rfile.Close()"
   ]
  },
  {
   "cell_type": "markdown",
   "metadata": {},
   "source": [
    "# Check that the Multiprocessing version matches from Main"
   ]
  },
  {
   "cell_type": "code",
   "execution_count": null,
   "metadata": {},
   "outputs": [],
   "source": [
    "c = ROOT.TCanvas(\"c\", \"c\", 700, 500)\n",
    "c.SetLogz()\n",
    "c.SetLogx()\n",
    "h_multi.SetStats(0)\n",
    "h_multi.GetXaxis().SetTitle(\"Nuclear Recoil Energy [keV]\")\n",
    "h_multi.GetYaxis().SetTitle(\"cos#theta_{r}\")\n",
    "h_multi.GetZaxis().SetTitle(\"Interactions/Year\")\n",
    "h_multi.GetXaxis().SetTitleOffset(1.5)\n",
    "h_multi.GetZaxis().SetTitleOffset(0.7)\n",
    "h_multi.Draw(\"Colz\")\n",
    "c.Draw()"
   ]
  },
  {
   "cell_type": "code",
   "execution_count": null,
   "metadata": {},
   "outputs": [],
   "source": [
    "rfile = ROOT.TFile.Open(\"../Main/Ar_spectrum.root\", \"READ\")\n",
    "h_multi_Ar = rfile.Get(\"N_2D\")\n",
    "h_multi_Ar.SetDirectory(0)\n",
    "rfile.Close()"
   ]
  }
 ],
 "metadata": {
  "kernelspec": {
   "display_name": "pyROOT_3.9_env",
   "language": "python",
   "name": "pyroot_3.9_env"
  },
  "language_info": {
   "codemirror_mode": {
    "name": "ipython",
    "version": 3
   },
   "file_extension": ".py",
   "mimetype": "text/x-python",
   "name": "python",
   "nbconvert_exporter": "python",
   "pygments_lexer": "ipython3",
   "version": "3.9.17"
  }
 },
 "nbformat": 4,
 "nbformat_minor": 2
}
