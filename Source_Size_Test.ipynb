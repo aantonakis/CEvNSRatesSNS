{
 "cells": [
  {
   "cell_type": "code",
   "execution_count": null,
   "id": "67a62d76-f2a3-42f7-b93c-732a582041e7",
   "metadata": {},
   "outputs": [],
   "source": [
    "# Study the effect of the SNS Source size"
   ]
  },
  {
   "cell_type": "code",
   "execution_count": null,
   "id": "f50beddd-d196-4ab5-a90d-45a78357c882",
   "metadata": {},
   "outputs": [],
   "source": [
    "import numpy as np\n",
    "import matplotlib.pyplot as plt\n",
    "import math\n",
    "\n",
    "dS = 1 # m source of 1m diameter \n",
    "sigma_r = 1./1000 # m -->  1 mm resolution\n"
   ]
  },
  {
   "cell_type": "code",
   "execution_count": null,
   "id": "b00c36d8-46c1-4295-ae55-c006edba8fd7",
   "metadata": {},
   "outputs": [],
   "source": [
    "samples = np.random.normal(loc=0.0, scale=sigma_r, size=10000)\n",
    "\n",
    "plt.hist(samples, bins=np.arange(-10*sigma_r, 10*sigma_r, sigma_r/10))\n",
    "plt.show()"
   ]
  },
  {
   "cell_type": "code",
   "execution_count": null,
   "id": "c7c77aa2-47ba-4e8e-b198-1ebcd9592160",
   "metadata": {},
   "outputs": [],
   "source": [
    "# sample many deviations on a sphere of radius distributed according to a gaussian of our resolution\n",
    "\n",
    "def get_deviations(L, dS, sigma_r, N):\n",
    "    us = np.random.uniform(size=N)\n",
    "    vs = np.random.uniform(size=N)\n",
    "    ue = np.random.uniform(size=N)\n",
    "    ve = np.random.uniform(size=N)\n",
    "\n",
    "    rs = np.random.normal(loc=0.0, scale=sigma_r, size=N)\n",
    "    \n",
    "    thetaS = 2 * math.pi * us\n",
    "    phiS = np.arccos(2*vs-1)\n",
    "\n",
    "    thetaE = 2 * math.pi * ue\n",
    "    phiE = np.arccos(2*ve-1)\n",
    "    \n",
    "    xS   = np.sin(thetaS)*np.cos(phiS)\n",
    "    yS   = np.sin(thetaS)*np.sin(phiS)\n",
    "    zS   = np.cos(thetaS)\n",
    "\n",
    "    S = np.random.uniform(size=N)*dS\n",
    "    xS*S\n",
    "    yS*S\n",
    "    zS*S\n",
    "\n",
    "    xE   = np.sin(thetaE)*np.cos(phiE)*rs\n",
    "    yE   = np.sin(thetaE)*np.sin(phiE)*rs\n",
    "    zE   = L + np.cos(thetaE)*rs\n",
    "\n",
    "    Lp = np.sqrt((xS-xE)**2 + (yS-yE)**2 + (zS-zE)**2)\n",
    "    return Lp\n",
    "\n",
    "print(\"made smearing function\")"
   ]
  },
  {
   "cell_type": "code",
   "execution_count": null,
   "id": "40d6a9b5-9e89-4eed-b246-24ff669aa14a",
   "metadata": {},
   "outputs": [],
   "source": [
    "Ls = get_deviations(20, 0.1, 0.001, 10000)\n",
    "\n",
    "plt.hist(Ls, bins=np.arange(18, 22, 0.1))\n",
    "plt.show()"
   ]
  },
  {
   "cell_type": "code",
   "execution_count": null,
   "id": "4f109424-e854-472a-a27c-35430d456405",
   "metadata": {},
   "outputs": [],
   "source": []
  }
 ],
 "metadata": {
  "kernelspec": {
   "display_name": "pyROOT_3.9_env",
   "language": "python",
   "name": "pyroot_3.9_env"
  },
  "language_info": {
   "codemirror_mode": {
    "name": "ipython",
    "version": 3
   },
   "file_extension": ".py",
   "mimetype": "text/x-python",
   "name": "python",
   "nbconvert_exporter": "python",
   "pygments_lexer": "ipython3",
   "version": "3.9.17"
  }
 },
 "nbformat": 4,
 "nbformat_minor": 5
}
