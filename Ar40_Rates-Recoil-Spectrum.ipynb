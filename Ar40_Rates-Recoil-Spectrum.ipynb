{
 "cells": [
  {
   "cell_type": "code",
   "execution_count": null,
   "id": "e8830674-294d-4c77-acef-b5c8d97e8630",
   "metadata": {},
   "outputs": [],
   "source": [
    "import numpy as np\n",
    "import sys\n",
    "import matplotlib.pyplot as plt\n",
    "from matplotlib.colors import LogNorm\n",
    "import math\n",
    "\n",
    "sys.path.append('/Users/alexanderantonakis/Desktop/Software/CEvNS_RATES/Classes')\n",
    "from snsgen import SNSGen\n",
    "\n",
    "print(\"Finished importing\")"
   ]
  },
  {
   "cell_type": "markdown",
   "id": "318df141-58c8-4e5d-a4d1-80008816d438",
   "metadata": {},
   "source": [
    "# Initialize the SNS Generator for Ar40: 1 Ton, 20 m Baseline"
   ]
  },
  {
   "cell_type": "code",
   "execution_count": null,
   "id": "069b1a49-a854-4fd4-ba11-286cb52d1ead",
   "metadata": {},
   "outputs": [],
   "source": [
    "# initialize the SNS generator with the material of choice\n",
    "\n",
    "mdet = 1000 #kg\n",
    "L = 20. # meters\n",
    "pot = 2.1*(10**23)\n",
    "material = \"Ar40\"\n",
    "\n",
    "gen = SNSGen(mdet, L, pot, material)\n",
    "\n",
    "print(\"Set up the SNS generator for our config\")"
   ]
  },
  {
   "cell_type": "markdown",
   "id": "c5674d6b-02d9-4167-92c0-aa6ef1bdfca0",
   "metadata": {},
   "source": [
    "# Spectral Functions for the Neutrino Flux"
   ]
  },
  {
   "cell_type": "code",
   "execution_count": null,
   "id": "73d07531-de7b-46aa-b876-eaf4cadcdb8e",
   "metadata": {},
   "outputs": [],
   "source": [
    "Es = np.arange(0, 53, 0.001)\n",
    "s_nue = gen.spectral_nue(Es)\n",
    "s_numubar = gen.spectral_numubar(Es)\n",
    "s_numu = gen.spectral_numu(Es)\n",
    "plt.plot(Es, s_nue, label=r\"$\\nu_{e}$\")\n",
    "plt.plot(Es, s_numubar, label=r\"$\\bar{\\nu}_{\\mu}$\")\n",
    "plt.plot(Es, s_numu, label=r\"$\\nu_{\\mu}$\")\n",
    "plt.legend(fontsize=14)\n",
    "plt.xlabel(\"Neutrino Energy [MeV]\", fontsize=14)\n",
    "plt.ylabel(\"Spectral Shape [Arb.]\", fontsize=14)\n",
    "plt.show()"
   ]
  },
  {
   "cell_type": "markdown",
   "id": "eeb7d9b1-7427-4555-bef7-0def416c1c41",
   "metadata": {},
   "source": [
    "# Calculate the normalized flux / POT"
   ]
  },
  {
   "cell_type": "code",
   "execution_count": null,
   "id": "d5b675ec-1b0f-4696-a097-83e2f964f09a",
   "metadata": {},
   "outputs": [],
   "source": [
    "f_nue = gen.flux_nue(Es)\n",
    "f_numubar = gen.flux_numubar(Es)\n",
    "f_numu = gen.flux_numu(Es)\n",
    "plt.scatter([], [], label=\"Detector Baseline: \" + str(gen.L)+\" m\")\n",
    "plt.plot(Es, f_nue, label=r\"$\\nu_{e}$\")\n",
    "plt.plot(Es, f_numubar, label=r\"$\\bar{\\nu}_{\\mu}$\")\n",
    "plt.plot(Es, f_numu, label=r\"$\\nu_{\\mu}$\")\n",
    "plt.legend(fontsize=14)\n",
    "plt.xlabel(\"Neutrino Energy [MeV]\", fontsize=14)\n",
    "plt.ylabel(\"Neutrino Flux [\" + r\"$\\nu$\"+\"/\"+\"$m^2$\"+\"/POT]\", fontsize=14)\n",
    "plt.yscale(\"log\")\n",
    "plt.show()"
   ]
  },
  {
   "cell_type": "markdown",
   "id": "ead13faa-bfdc-4ee6-ba11-c63e9464463c",
   "metadata": {},
   "source": [
    "# Plot the Helm Form Factor used in the Cross-section"
   ]
  },
  {
   "cell_type": "code",
   "execution_count": null,
   "id": "2a27b593-3f06-4365-9ab9-014a4cd7b0b5",
   "metadata": {},
   "outputs": [],
   "source": [
    "Es = np.arange(0.001, 0.14+0.001, 0.001)\n",
    "qs = np.sqrt(2*gen.M*Es)\n",
    "fs = gen.FH(Es)**2\n",
    "plt.plot(qs, fs)\n",
    "plt.xlabel(\"Momentum Transfer [MeV]\", fontsize=14)\n",
    "plt.ylabel(r\"Helm Form Factor Squared\", fontsize=14)\n",
    "plt.show()"
   ]
  },
  {
   "cell_type": "markdown",
   "id": "a1e1ec72-0313-4af1-a80b-903516d3c45f",
   "metadata": {},
   "source": [
    "# Calculate the Cross-section using the Differential Cross-section"
   ]
  },
  {
   "cell_type": "code",
   "execution_count": null,
   "id": "2c06e5c7-2226-450f-8968-1d47fedd5493",
   "metadata": {},
   "outputs": [],
   "source": [
    "Enus = np.linspace(0.00001, 53, 1000)\n",
    "sigmas = gen.Sigma(Enus)\n",
    "\n",
    "\n",
    "plt.plot(Enus, sigmas*(100**2)*(10**38))\n",
    "plt.xlim([5, 53])\n",
    "plt.ylim([10**(-5), 10**2])\n",
    "plt.yscale(\"log\")\n",
    "plt.ylabel(\"Cross-section (\"+r\"$10^{-38} cm^2$\"+\")\", fontsize=14)\n",
    "plt.xlabel(\"Neutrino Energy [MeV]\", fontsize=14)\n",
    "plt.show()"
   ]
  },
  {
   "cell_type": "markdown",
   "id": "9ef59e35-576f-4d67-bf48-9f8564326a32",
   "metadata": {},
   "source": [
    "# Event Rate as a function of Recoil Energy"
   ]
  },
  {
   "cell_type": "code",
   "execution_count": null,
   "id": "7d9143a1-1965-41c5-8d4d-7bbf666defd7",
   "metadata": {},
   "outputs": [],
   "source": [
    "Ers = np.arange(0.001, 0.14, 0.001)\n",
    "plt.plot(Ers*1000, gen.N_Er_numubar(Ers), label=r\"$\\bar{\\nu}_{\\mu}$\")\n",
    "plt.plot(Ers*1000, gen.N_Er_nue(Ers), label=r\"$\\nu_{e}$\")\n",
    "plt.plot(Ers*1000, gen.N_Er_numu(Ers), label=r\"$\\nu_{\\mu}$\")\n",
    "plt.ylabel(\"Events/POT/keV\", fontsize=14)\n",
    "plt.xlabel(\"Nuclear Recoil Energy [keV]\", fontsize=14)\n",
    "plt.legend(fontsize=14)\n",
    "plt.xlim([1, 140])\n",
    "#plt.ylim([0, 350])\n",
    "plt.show()"
   ]
  },
  {
   "cell_type": "code",
   "execution_count": null,
   "id": "b29a8789-e0a7-4e4f-91a0-d6163e943aa4",
   "metadata": {},
   "outputs": [],
   "source": [
    "Ers = np.arange(0.001, 0.14, 0.001)\n",
    "plt.plot(Ers*1000, gen.pot*gen.N_Er_numubar(Ers), label=r\"$\\bar{\\nu}_{\\mu}$\")\n",
    "plt.plot(Ers*1000, gen.pot*gen.N_Er_nue(Ers), label=r\"$\\nu_{e}$\")\n",
    "plt.plot(Ers*1000, gen.pot*gen.N_Er_numu(Ers), label=r\"$\\nu_{\\mu}$\")\n",
    "plt.ylabel(\"Events/year/keV\", fontsize=14)\n",
    "plt.xlabel(\"Nuclear Recoil Energy [keV]\", fontsize=14)\n",
    "plt.legend(fontsize=14)\n",
    "plt.xlim([1, 140])\n",
    "plt.ylim([0, 350])\n",
    "plt.show()"
   ]
  },
  {
   "cell_type": "markdown",
   "id": "cf8350bc-4f2d-44df-9b67-ee309e077618",
   "metadata": {},
   "source": [
    "# Plot the Differential Recoil Spectrum / POT"
   ]
  },
  {
   "cell_type": "code",
   "execution_count": null,
   "id": "f47c3002-8295-48e3-bd71-be1d4a6c1a33",
   "metadata": {},
   "outputs": [],
   "source": [
    "Ers = np.linspace(0.001, 0.16, 1000)\n",
    "costhetas = np.linspace(0.01, 1, 1000)\n",
    "\n",
    "\n",
    "X, Y = np.meshgrid(Ers, costhetas)  \n",
    "Z = gen.dN_dEr_dcos_muon(X, Y)\n",
    "\n",
    "# Create a contour plot\n",
    "plt.figure(figsize=(8, 6))\n",
    "\n",
    "# Contour lines\n",
    "#contour = plt.contour(X*1000, Y, Z, levels=100, cmap=\"viridis\", norm=LogNorm())  # 20 levels\n",
    "#plt.clabel(contour, inline=True, fontsize=8)               # Label the contours\n",
    "\n",
    "# Filled contour\n",
    "contour = plt.contourf(X*1000, Y, Z, levels=100, \n",
    "                       cmap=\"viridis\", alpha=0.7, norm=LogNorm())  # Filled contours\n",
    "\n",
    "colorbar = plt.colorbar(contour)\n",
    "colorbar.set_label(r\"$\\frac{d^{2}N}{dE_{r}d\\Omega_{r}}$\" + \"/POT\", fontsize=14)\n",
    "\n",
    "plt.scatter([], [], c=\"black\", label=\"Detector Mass: \"+str(gen.mdet)+ \" kg\")\n",
    "plt.scatter([], [], c=\"black\", label=\"Baseline: \"+str(gen.L)+ \" m\")\n",
    "\n",
    "#plt.xlim([0, 150])\n",
    "plt.ylim([0, 1.1])\n",
    "# Add labels\n",
    "#plt.title(\"Contour Plot Example\")\n",
    "plt.xlabel(\"Nuclear Recoil Energy [keV]\", fontsize=14)\n",
    "plt.ylabel(\"cos\"+r\"$\\theta_{r}$\", fontsize=14)\n",
    "plt.xscale(\"log\")\n",
    "# Show the plot\n",
    "plt.xlim([0, 200])\n",
    "plt.legend(loc=\"lower right\")\n",
    "plt.title(r\"$\\nu_{e} + \\bar{\\nu}_{\\mu}$\"+\" Flux Contribution\", fontsize=20)\n",
    "plt.show()"
   ]
  },
  {
   "cell_type": "code",
   "execution_count": null,
   "id": "8638822e-8e49-4884-bf52-2f317344497b",
   "metadata": {},
   "outputs": [],
   "source": []
  }
 ],
 "metadata": {
  "kernelspec": {
   "display_name": "pyROOT_3.9_env",
   "language": "python",
   "name": "pyroot_3.9_env"
  },
  "language_info": {
   "codemirror_mode": {
    "name": "ipython",
    "version": 3
   },
   "file_extension": ".py",
   "mimetype": "text/x-python",
   "name": "python",
   "nbconvert_exporter": "python",
   "pygments_lexer": "ipython3",
   "version": "3.9.17"
  }
 },
 "nbformat": 4,
 "nbformat_minor": 5
}
